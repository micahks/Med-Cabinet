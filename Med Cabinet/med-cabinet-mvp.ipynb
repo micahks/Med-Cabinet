{
 "cells": [
  {
   "cell_type": "code",
   "execution_count": 1,
   "metadata": {},
   "outputs": [],
   "source": [
    "import pandas as pd"
   ]
  },
  {
   "cell_type": "code",
   "execution_count": 2,
   "metadata": {},
   "outputs": [],
   "source": [
    "#Importing Data\n",
    "\n",
    "df = pd.read_csv(\"/Users/micahswain/Lambda/Unit-4/Med-Cabinet/Med Cabinet/data/cannabis.csv\")\n",
    "\n",
    "df['Flavor'] = df['Flavor'].str.replace('Blue,Cheese', 'Blue Cheese')\n",
    "\n",
    "df = df[df['Effects'] != 'None']\n",
    "\n",
    "df = df[df['Flavor'] != 'None']\n",
    "\n",
    "df = df.set_index('Strain')"
   ]
  },
  {
   "cell_type": "code",
   "execution_count": 3,
   "metadata": {},
   "outputs": [],
   "source": [
    "#getting all possible effects from DF\n",
    "all_effects = df['Effects'].str.cat(sep=',')\n",
    "set_effects = set(all_effects.split(\",\"))"
   ]
  },
  {
   "cell_type": "code",
   "execution_count": 4,
   "metadata": {},
   "outputs": [
    {
     "data": {
      "text/plain": [
       "{'Aroused',\n",
       " 'Creative',\n",
       " 'Dry',\n",
       " 'Energetic',\n",
       " 'Euphoric',\n",
       " 'Focused',\n",
       " 'Giggly',\n",
       " 'Happy',\n",
       " 'Hungry',\n",
       " 'Mouth',\n",
       " 'Relaxed',\n",
       " 'Sleepy',\n",
       " 'Talkative',\n",
       " 'Tingly',\n",
       " 'Uplifted'}"
      ]
     },
     "execution_count": 4,
     "metadata": {},
     "output_type": "execute_result"
    }
   ],
   "source": [
    "set_effects"
   ]
  },
  {
   "cell_type": "code",
   "execution_count": 5,
   "metadata": {},
   "outputs": [],
   "source": [
    "#getting all possible flavors from DF\n",
    "all_flavor = df['Flavor'].str.cat(sep=',')\n",
    "set_flavor = set(all_flavor.split(\",\"))"
   ]
  },
  {
   "cell_type": "code",
   "execution_count": 6,
   "metadata": {},
   "outputs": [
    {
     "data": {
      "text/plain": [
       "{'Ammonia',\n",
       " 'Apple',\n",
       " 'Apricot',\n",
       " 'Berry',\n",
       " 'Blue Cheese',\n",
       " 'Blueberry',\n",
       " 'Butter',\n",
       " 'Cheese',\n",
       " 'Chemical',\n",
       " 'Chestnut',\n",
       " 'Citrus',\n",
       " 'Coffee',\n",
       " 'Diesel',\n",
       " 'Earthy',\n",
       " 'Flowery',\n",
       " 'Fruit',\n",
       " 'Grape',\n",
       " 'Grapefruit',\n",
       " 'Honey',\n",
       " 'Lavender',\n",
       " 'Lemon',\n",
       " 'Lime',\n",
       " 'Mango',\n",
       " 'Menthol',\n",
       " 'Mint',\n",
       " 'Minty',\n",
       " 'Nutty',\n",
       " 'Orange',\n",
       " 'Peach',\n",
       " 'Pear',\n",
       " 'Pepper',\n",
       " 'Pine',\n",
       " 'Pineapple',\n",
       " 'Plum',\n",
       " 'Pungent',\n",
       " 'Rose',\n",
       " 'Sage',\n",
       " 'Skunk',\n",
       " 'Spicy/Herbal',\n",
       " 'Strawberry',\n",
       " 'Sweet',\n",
       " 'Tar',\n",
       " 'Tea',\n",
       " 'Tobacco',\n",
       " 'Tree',\n",
       " 'Tropical',\n",
       " 'Vanilla',\n",
       " 'Violet',\n",
       " 'Woody'}"
      ]
     },
     "execution_count": 6,
     "metadata": {},
     "output_type": "execute_result"
    }
   ],
   "source": [
    "set_flavor"
   ]
  },
  {
   "cell_type": "code",
   "execution_count": 7,
   "metadata": {},
   "outputs": [],
   "source": [
    "#combining effects and flavors to one column for ease of vectorizing\n",
    "df['to_vect'] = df['Effects'] + \",\" + df['Flavor']\n",
    "df.dropna(inplace=True)"
   ]
  },
  {
   "cell_type": "code",
   "execution_count": 8,
   "metadata": {},
   "outputs": [
    {
     "data": {
      "text/html": [
       "<div>\n",
       "<style scoped>\n",
       "    .dataframe tbody tr th:only-of-type {\n",
       "        vertical-align: middle;\n",
       "    }\n",
       "\n",
       "    .dataframe tbody tr th {\n",
       "        vertical-align: top;\n",
       "    }\n",
       "\n",
       "    .dataframe thead th {\n",
       "        text-align: right;\n",
       "    }\n",
       "</style>\n",
       "<table border=\"1\" class=\"dataframe\">\n",
       "  <thead>\n",
       "    <tr style=\"text-align: right;\">\n",
       "      <th></th>\n",
       "      <th>Type</th>\n",
       "      <th>Rating</th>\n",
       "      <th>Effects</th>\n",
       "      <th>Flavor</th>\n",
       "      <th>Description</th>\n",
       "      <th>to_vect</th>\n",
       "    </tr>\n",
       "    <tr>\n",
       "      <th>Strain</th>\n",
       "      <th></th>\n",
       "      <th></th>\n",
       "      <th></th>\n",
       "      <th></th>\n",
       "      <th></th>\n",
       "      <th></th>\n",
       "    </tr>\n",
       "  </thead>\n",
       "  <tbody>\n",
       "    <tr>\n",
       "      <th>100-Og</th>\n",
       "      <td>hybrid</td>\n",
       "      <td>4.0</td>\n",
       "      <td>Creative,Energetic,Tingly,Euphoric,Relaxed</td>\n",
       "      <td>Earthy,Sweet,Citrus</td>\n",
       "      <td>$100 OG is a 50/50 hybrid strain that packs a ...</td>\n",
       "      <td>Creative,Energetic,Tingly,Euphoric,Relaxed,Ear...</td>\n",
       "    </tr>\n",
       "    <tr>\n",
       "      <th>98-White-Widow</th>\n",
       "      <td>hybrid</td>\n",
       "      <td>4.7</td>\n",
       "      <td>Relaxed,Aroused,Creative,Happy,Energetic</td>\n",
       "      <td>Flowery,Violet,Diesel</td>\n",
       "      <td>The ‘98 Aloha White Widow is an especially pot...</td>\n",
       "      <td>Relaxed,Aroused,Creative,Happy,Energetic,Flowe...</td>\n",
       "    </tr>\n",
       "    <tr>\n",
       "      <th>1024</th>\n",
       "      <td>sativa</td>\n",
       "      <td>4.4</td>\n",
       "      <td>Uplifted,Happy,Relaxed,Energetic,Creative</td>\n",
       "      <td>Spicy/Herbal,Sage,Woody</td>\n",
       "      <td>1024 is a sativa-dominant hybrid bred in Spain...</td>\n",
       "      <td>Uplifted,Happy,Relaxed,Energetic,Creative,Spic...</td>\n",
       "    </tr>\n",
       "    <tr>\n",
       "      <th>13-Dawgs</th>\n",
       "      <td>hybrid</td>\n",
       "      <td>4.2</td>\n",
       "      <td>Tingly,Creative,Hungry,Relaxed,Uplifted</td>\n",
       "      <td>Apricot,Citrus,Grapefruit</td>\n",
       "      <td>13 Dawgs is a hybrid of G13 and Chemdawg genet...</td>\n",
       "      <td>Tingly,Creative,Hungry,Relaxed,Uplifted,Aprico...</td>\n",
       "    </tr>\n",
       "    <tr>\n",
       "      <th>24K-Gold</th>\n",
       "      <td>hybrid</td>\n",
       "      <td>4.6</td>\n",
       "      <td>Happy,Relaxed,Euphoric,Uplifted,Talkative</td>\n",
       "      <td>Citrus,Earthy,Orange</td>\n",
       "      <td>Also known as Kosher Tangie, 24k Gold is a 60%...</td>\n",
       "      <td>Happy,Relaxed,Euphoric,Uplifted,Talkative,Citr...</td>\n",
       "    </tr>\n",
       "  </tbody>\n",
       "</table>\n",
       "</div>"
      ],
      "text/plain": [
       "                  Type  Rating                                     Effects  \\\n",
       "Strain                                                                       \n",
       "100-Og          hybrid     4.0  Creative,Energetic,Tingly,Euphoric,Relaxed   \n",
       "98-White-Widow  hybrid     4.7    Relaxed,Aroused,Creative,Happy,Energetic   \n",
       "1024            sativa     4.4   Uplifted,Happy,Relaxed,Energetic,Creative   \n",
       "13-Dawgs        hybrid     4.2     Tingly,Creative,Hungry,Relaxed,Uplifted   \n",
       "24K-Gold        hybrid     4.6   Happy,Relaxed,Euphoric,Uplifted,Talkative   \n",
       "\n",
       "                                   Flavor  \\\n",
       "Strain                                      \n",
       "100-Og                Earthy,Sweet,Citrus   \n",
       "98-White-Widow      Flowery,Violet,Diesel   \n",
       "1024              Spicy/Herbal,Sage,Woody   \n",
       "13-Dawgs        Apricot,Citrus,Grapefruit   \n",
       "24K-Gold             Citrus,Earthy,Orange   \n",
       "\n",
       "                                                      Description  \\\n",
       "Strain                                                              \n",
       "100-Og          $100 OG is a 50/50 hybrid strain that packs a ...   \n",
       "98-White-Widow  The ‘98 Aloha White Widow is an especially pot...   \n",
       "1024            1024 is a sativa-dominant hybrid bred in Spain...   \n",
       "13-Dawgs        13 Dawgs is a hybrid of G13 and Chemdawg genet...   \n",
       "24K-Gold        Also known as Kosher Tangie, 24k Gold is a 60%...   \n",
       "\n",
       "                                                          to_vect  \n",
       "Strain                                                             \n",
       "100-Og          Creative,Energetic,Tingly,Euphoric,Relaxed,Ear...  \n",
       "98-White-Widow  Relaxed,Aroused,Creative,Happy,Energetic,Flowe...  \n",
       "1024            Uplifted,Happy,Relaxed,Energetic,Creative,Spic...  \n",
       "13-Dawgs        Tingly,Creative,Hungry,Relaxed,Uplifted,Aprico...  \n",
       "24K-Gold        Happy,Relaxed,Euphoric,Uplifted,Talkative,Citr...  "
      ]
     },
     "execution_count": 8,
     "metadata": {},
     "output_type": "execute_result"
    }
   ],
   "source": [
    "df.head()"
   ]
  },
  {
   "cell_type": "code",
   "execution_count": 10,
   "metadata": {},
   "outputs": [],
   "source": [
    "from sklearn.feature_extraction.text import CountVectorizer, TfidfVectorizer\n",
    "import pickle"
   ]
  },
  {
   "cell_type": "code",
   "execution_count": 14,
   "metadata": {},
   "outputs": [],
   "source": [
    "#Vectorizing to_vect column\n",
    "\n",
    "# Instantiate vectorizer object\n",
    "tfidf = TfidfVectorizer(stop_words='english', max_features=75)\n",
    "\n",
    "# Create a vocabulary and get word counts per document\n",
    "# Similiar to fit_predict\n",
    "dtm = tfidf.fit_transform(df['to_vect'])\n",
    "\n",
    "# Get feature names to use as dataframe column headers\n",
    "dtm = pd.DataFrame(dtm.todense(), columns=tfidf.get_feature_names(), index=df.index)\n",
    "\n",
    "# View Feature Matrix as DataFrame\n",
    "dtm.head()\n",
    "\n",
    "#pickle vectorizer\n",
    "pickle.dump(tfidf, open(\"pickled_vectorizer\", 'wb'))"
   ]
  },
  {
   "cell_type": "code",
   "execution_count": 15,
   "metadata": {},
   "outputs": [],
   "source": [
    "from sklearn.neighbors import NearestNeighbors\n",
    "\n",
    "#Fitting NearestNeighbors model\n",
    "\n",
    "# Fit on DTM\n",
    "nn = NearestNeighbors(n_neighbors=5, algorithm='kd_tree')\n",
    "nn.fit(dtm)\n",
    "#pickle NN model\n",
    "pickle.dump(nn, open(\"pickled_nn_model\", 'wb'))"
   ]
  },
  {
   "cell_type": "code",
   "execution_count": 16,
   "metadata": {},
   "outputs": [],
   "source": [
    "###Testing the NN Model\n",
    "\n",
    "#need to combine the desired effects and flavors to match the fitting model\n",
    "desired_effects = 'creative,relaxed,happy'\n",
    "desired_flavor = 'pineapple,Mango,Berry'\n",
    "desired_combined = desired_effects + ',' + desired_flavor"
   ]
  },
  {
   "cell_type": "code",
   "execution_count": 17,
   "metadata": {},
   "outputs": [],
   "source": [
    "#load vectorizer\n",
    "loaded_vectorizer = pickle.load(open(\"pickled_vectorizer\", 'rb'))"
   ]
  },
  {
   "cell_type": "code",
   "execution_count": 18,
   "metadata": {},
   "outputs": [],
   "source": [
    "#vectorize desired effects/flavors\n",
    "desired_dtm = loaded_vectorizer.transform([desired_combined])"
   ]
  },
  {
   "cell_type": "code",
   "execution_count": 19,
   "metadata": {},
   "outputs": [],
   "source": [
    "#load NN Model\n",
    "\n",
    "loaded_nn_model = pickle.load(open(\"pickled_nn_model\", 'rb'))"
   ]
  },
  {
   "cell_type": "code",
   "execution_count": 20,
   "metadata": {},
   "outputs": [
    {
     "data": {
      "text/plain": [
       "(array([[0.57329548, 0.68475826, 0.81899101, 0.84182441, 0.8492552 ]]),\n",
       " array([[ 525, 1281, 1480, 1459, 1531]]))"
      ]
     },
     "execution_count": 20,
     "metadata": {},
     "output_type": "execute_result"
    }
   ],
   "source": [
    "### make predictions\n",
    "\n",
    "output = loaded_nn_model.kneighbors(desired_dtm.todense())\n",
    "output"
   ]
  },
  {
   "cell_type": "code",
   "execution_count": 21,
   "metadata": {},
   "outputs": [
    {
     "data": {
      "text/html": [
       "<div>\n",
       "<style scoped>\n",
       "    .dataframe tbody tr th:only-of-type {\n",
       "        vertical-align: middle;\n",
       "    }\n",
       "\n",
       "    .dataframe tbody tr th {\n",
       "        vertical-align: top;\n",
       "    }\n",
       "\n",
       "    .dataframe thead th {\n",
       "        text-align: right;\n",
       "    }\n",
       "</style>\n",
       "<table border=\"1\" class=\"dataframe\">\n",
       "  <thead>\n",
       "    <tr style=\"text-align: right;\">\n",
       "      <th></th>\n",
       "      <th>Type</th>\n",
       "      <th>Rating</th>\n",
       "      <th>Effects</th>\n",
       "      <th>Flavor</th>\n",
       "      <th>Description</th>\n",
       "    </tr>\n",
       "    <tr>\n",
       "      <th>Strain</th>\n",
       "      <th></th>\n",
       "      <th></th>\n",
       "      <th></th>\n",
       "      <th></th>\n",
       "      <th></th>\n",
       "    </tr>\n",
       "  </thead>\n",
       "  <tbody>\n",
       "    <tr>\n",
       "      <th>Colorado-Bubba</th>\n",
       "      <td>indica</td>\n",
       "      <td>4.6</td>\n",
       "      <td>Relaxed,Happy,Sleepy,Uplifted,Creative</td>\n",
       "      <td>Pineapple,Mango,Pine</td>\n",
       "      <td>Colorado Bubba from Vault Genetics took 1st pl...</td>\n",
       "    </tr>\n",
       "    <tr>\n",
       "      <th>Mekamika-Haze</th>\n",
       "      <td>sativa</td>\n",
       "      <td>5.0</td>\n",
       "      <td>Uplifted,Creative,Energetic,Euphoric,Focused</td>\n",
       "      <td>Pineapple,Mango,Flowery</td>\n",
       "      <td>Mekamika Haze won Best Sativa at the 2015 Amst...</td>\n",
       "    </tr>\n",
       "    <tr>\n",
       "      <th>Pineapple-Purps</th>\n",
       "      <td>sativa</td>\n",
       "      <td>4.4</td>\n",
       "      <td>Creative,Uplifted,Relaxed,Euphoric,Energetic</td>\n",
       "      <td>Earthy,Pineapple,Berry</td>\n",
       "      <td>Pineapple Purps is a sativa-dominant strain th...</td>\n",
       "    </tr>\n",
       "    <tr>\n",
       "      <th>Phantom-Cookies</th>\n",
       "      <td>hybrid</td>\n",
       "      <td>4.6</td>\n",
       "      <td>Happy,Relaxed,Uplifted,Creative,Energetic</td>\n",
       "      <td>Berry,Grape,Mango</td>\n",
       "      <td>Phantom Cookies is a sativa-dominant hybrid fr...</td>\n",
       "    </tr>\n",
       "    <tr>\n",
       "      <th>Pure-Love</th>\n",
       "      <td>indica</td>\n",
       "      <td>4.8</td>\n",
       "      <td>Relaxed,Sleepy,Happy,Focused,Euphoric</td>\n",
       "      <td>Mango,Sweet,Berry</td>\n",
       "      <td>Pure Love is a hunger-inducing indica-dominant...</td>\n",
       "    </tr>\n",
       "  </tbody>\n",
       "</table>\n",
       "</div>"
      ],
      "text/plain": [
       "                   Type  Rating                                       Effects  \\\n",
       "Strain                                                                          \n",
       "Colorado-Bubba   indica     4.6        Relaxed,Happy,Sleepy,Uplifted,Creative   \n",
       "Mekamika-Haze    sativa     5.0  Uplifted,Creative,Energetic,Euphoric,Focused   \n",
       "Pineapple-Purps  sativa     4.4  Creative,Uplifted,Relaxed,Euphoric,Energetic   \n",
       "Phantom-Cookies  hybrid     4.6     Happy,Relaxed,Uplifted,Creative,Energetic   \n",
       "Pure-Love        indica     4.8         Relaxed,Sleepy,Happy,Focused,Euphoric   \n",
       "\n",
       "                                  Flavor  \\\n",
       "Strain                                     \n",
       "Colorado-Bubba      Pineapple,Mango,Pine   \n",
       "Mekamika-Haze    Pineapple,Mango,Flowery   \n",
       "Pineapple-Purps   Earthy,Pineapple,Berry   \n",
       "Phantom-Cookies        Berry,Grape,Mango   \n",
       "Pure-Love              Mango,Sweet,Berry   \n",
       "\n",
       "                                                       Description  \n",
       "Strain                                                              \n",
       "Colorado-Bubba   Colorado Bubba from Vault Genetics took 1st pl...  \n",
       "Mekamika-Haze    Mekamika Haze won Best Sativa at the 2015 Amst...  \n",
       "Pineapple-Purps  Pineapple Purps is a sativa-dominant strain th...  \n",
       "Phantom-Cookies  Phantom Cookies is a sativa-dominant hybrid fr...  \n",
       "Pure-Love        Pure Love is a hunger-inducing indica-dominant...  "
      ]
     },
     "execution_count": 21,
     "metadata": {},
     "output_type": "execute_result"
    }
   ],
   "source": [
    "###Show the nearest Neighbors output\n",
    "\n",
    "nn = output[1][0]\n",
    "\n",
    "df.iloc[nn].drop(columns='to_vect')"
   ]
  },
  {
   "cell_type": "code",
   "execution_count": null,
   "metadata": {},
   "outputs": [],
   "source": []
  }
 ],
 "metadata": {
  "kernelspec": {
   "display_name": "Python 3",
   "language": "python",
   "name": "python3"
  },
  "language_info": {
   "codemirror_mode": {
    "name": "ipython",
    "version": 3
   },
   "file_extension": ".py",
   "mimetype": "text/x-python",
   "name": "python",
   "nbconvert_exporter": "python",
   "pygments_lexer": "ipython3",
   "version": "3.8.2"
  }
 },
 "nbformat": 4,
 "nbformat_minor": 4
}
